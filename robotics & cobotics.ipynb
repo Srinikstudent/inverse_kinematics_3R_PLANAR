{
 "cells": [
  {
   "cell_type": "code",
   "execution_count": 342,
   "id": "e192e9d8",
   "metadata": {},
   "outputs": [],
   "source": [
    "from math import cos, sin , tan , atan, acos\n",
    "import math\n",
    "p = [1,1] # let's consider l1 = 1\n",
    "L = [1,0.8,0.4]\n",
    "theta = 0"
   ]
  },
  {
   "cell_type": "code",
   "execution_count": 343,
   "id": "3e6b06ba",
   "metadata": {
    "scrolled": true
   },
   "outputs": [
    {
     "name": "stdout",
     "output_type": "stream",
     "text": [
      "position of C3 is  (0.6, 1.0)\n"
     ]
    }
   ],
   "source": [
    "Cx = p[0] - L[2]* math.cos(math.radians(theta))\n",
    "Cy = p[1] - L[2]* math.sin(math.radians(theta))\n",
    "print ('position of C3 is ', (Cx,Cy))"
   ]
  },
  {
   "cell_type": "code",
   "execution_count": 344,
   "id": "aa394538",
   "metadata": {},
   "outputs": [],
   "source": [
    "def theta2(Cx,Cy,L1,L2):\n",
    "    x = (Cx**2 + Cy**2 -L1**2 -L2**2)\n",
    "    y = 2*L1*L2\n",
    "    l = x/y\n",
    "    n = math.sqrt(1-l**2)\n",
    "    angel_c2 = math.degrees(math.atan2(n,l))\n",
    "    return angel_c2\n",
    "def theta1(Cx,Cy,L1,L2,theta,θ2):\n",
    "    x1 = math.degrees(math.atan2(Cy,Cx))\n",
    "    x2 = L2* math.sin(math.radians(θ2)) \n",
    "    x3 = L1 + (L2 * math.cos(math.radians(θ2)))\n",
    "    y1 = math.degrees(math.atan2(x2,x3))\n",
    "    angel_c1 = x1 - y1\n",
    "    #print (x1,x2,x3,y1, angel_c1)\n",
    "    return angel_c1\n",
    "def theta3(θ1,θ2):\n",
    "    angel_c3 = theta -(θ1 + θ2)\n",
    "    return angel_c3\n",
    "     "
   ]
  },
  {
   "cell_type": "code",
   "execution_count": 345,
   "id": "20913f35",
   "metadata": {},
   "outputs": [
    {
     "name": "stdout",
     "output_type": "stream",
     "text": [
      "angel at c2 is θ2 =  100.07865810778767\n",
      "angel at c1 is θ1 =  16.550372706970897\n",
      "angel at c3 is θ3 =  -116.62903081475858\n"
     ]
    }
   ],
   "source": [
    "θ2 = theta2(Cx,Cy,L[0],L[1])\n",
    "print ('angel at c2 is θ2 = ', θ2)\n",
    "    \n",
    "θ1 = theta1(Cx,Cy,L[0],L[1],theta,θ2)\n",
    "\n",
    "print ('angel at c1 is θ1 = ', θ1)\n",
    "θ3 = theta3(θ1,θ2)\n",
    "print('angel at c3 is θ3 = ', θ3)\n"
   ]
  },
  {
   "cell_type": "code",
   "execution_count": 346,
   "id": "180a0f25",
   "metadata": {},
   "outputs": [],
   "source": [
    "\n",
    "a1 = L[0]*math.cos(math.radians(θ1)) + L[1]* math.cos(math.radians(θ1 + θ2))+ L[2] * math.cos(math.radians(theta))\n",
    "a2 = L[0]*math.sin(math.radians(θ1)) + L[1]* math.sin(math.radians(θ1 + θ2))+  L[2]* math.sin(math.radians(theta))\n"
   ]
  },
  {
   "cell_type": "code",
   "execution_count": 347,
   "id": "1e6a4803",
   "metadata": {},
   "outputs": [
    {
     "name": "stdout",
     "output_type": "stream",
     "text": [
      "losss is  0.0\n",
      "1.0 0.9999999999999999\n"
     ]
    }
   ],
   "source": [
    "output = [a1,a2]\n",
    "if p == output:\n",
    "    print('zero loss during verfication')\n",
    "else:\n",
    "    print('losss is ',float(len(p) - len(output)))\n",
    "print (a1,a2)"
   ]
  },
  {
   "cell_type": "code",
   "execution_count": 348,
   "id": "7d771a3b",
   "metadata": {},
   "outputs": [],
   "source": [
    "import matplotlib.pyplot as plt"
   ]
  },
  {
   "cell_type": "code",
   "execution_count": 349,
   "id": "f565de4c",
   "metadata": {},
   "outputs": [
    {
     "data": {
      "image/png": "[encoded data removed]",
      "text/plain": [
       "<Figure size 432x288 with 1 Axes>"
      ]
     },
     "metadata": {
      "needs_background": "light"
     },
     "output_type": "display_data"
    }
   ],
   "source": [
    "b1 = [0,L[0]*math.cos(math.radians(θ1))]\n",
    "b2 = [0,L[0]*math.sin(math.radians(θ1))]\n",
    "c1 = L[0]*math.cos(math.radians(θ1)) + L[1]*math.cos(math.radians(θ1+θ2))\n",
    "c2 = L[0]*math.sin(math.radians(θ1)) + L[1]*math.sin(math.radians(θ1+θ2))\n",
    "b3 = [L[0]*math.cos(math.radians(θ1)) , c1]\n",
    "b4 = [L[0]*math.sin(math.radians(θ1)) , c2]\n",
    "b5 = [c1, a1]\n",
    "b6 = [c2, a2]\n",
    "plt.plot(b1, b2, color='green',  linewidth = 5,\n",
    "         marker='o', markerfacecolor='blue', markersize=12, label ='link1')\n",
    "plt.plot(b3, b4, color='red',  linewidth = 5,\n",
    "      marker='o', markerfacecolor='blue', markersize=12, label ='link2')\n",
    "plt.plot(b5, b6, color='blue', marker='o', linewidth = 5, markerfacecolor='blue', markersize=12, label ='link3')\n",
    "\n",
    "plt.legend()\n",
    "plt.show()"
   ]
  },
  {
   "cell_type": "code",
   "execution_count": 350,
   "id": "4b6c5ed4",
   "metadata": {},
   "outputs": [
    {
     "name": "stdout",
     "output_type": "stream",
     "text": [
      "[0, 0.958569666691624] [0, 0.2848581999850255] [0.958569666691624, 0.6] [0.2848581999850255, 0.9999999999999999] [0.6, 1.0] [0.9999999999999999, 0.9999999999999999]\n"
     ]
    }
   ],
   "source": [
    "print (b1, b2 ,b3, b4 , b5, b6)"
   ]
  },
  {
   "cell_type": "code",
   "execution_count": 351,
   "id": "652cfd01",
   "metadata": {},
   "outputs": [
    {
     "name": "stdout",
     "output_type": "stream",
     "text": [
      "alternative angels are θ1 = 101.52211422888206 , θ2 = -100.07865810778767, θ3 = -1.4434561210943855\n"
     ]
    }
   ],
   "source": [
    "θ2 =  -(θ2)\n",
    "θ1 =  theta1(Cx,Cy,L[0],L[1],theta,θ2)\n",
    "θ3 = θ3 = theta3(θ1,θ2)\n",
    "print(f'alternative angels are θ1 = {θ1} , θ2 = {θ2}, θ3 = {θ3}')"
   ]
  },
  {
   "cell_type": "code",
   "execution_count": 352,
   "id": "fda58de6",
   "metadata": {},
   "outputs": [],
   "source": [
    "a1 = L[0]*math.cos(math.radians(θ1)) + L[1]* math.cos(math.radians(θ1 + θ2))+ L[2] * math.cos(math.radians(theta))\n",
    "a2 = L[0]*math.sin(math.radians(θ1)) + L[1]* math.sin(math.radians(θ1 + θ2))+ L[2]* math.sin(math.radians(theta))\n"
   ]
  },
  {
   "cell_type": "code",
   "execution_count": 353,
   "id": "605769e9",
   "metadata": {},
   "outputs": [
    {
     "name": "stdout",
     "output_type": "stream",
     "text": [
      "losss is  0\n",
      "0.9999999999999999 0.9999999999999999\n"
     ]
    }
   ],
   "source": [
    "\n",
    "if p == output:\n",
    "    print('zero loss during verfication')\n",
    "else:\n",
    "    print('losss is ',len(p) - len(output))\n",
    "print (a1,a2)"
   ]
  },
  {
   "cell_type": "code",
   "execution_count": 354,
   "id": "001bc803",
   "metadata": {},
   "outputs": [
    {
     "data": {
      "image/png": "[encoded data removed]",
      "text/plain": [
       "<Figure size 432x288 with 1 Axes>"
      ]
     },
     "metadata": {
      "needs_background": "light"
     },
     "output_type": "display_data"
    }
   ],
   "source": [
    "b1 = [0,L[0]*math.cos(math.radians(θ1))]\n",
    "b2 = [0,L[0]*math.sin(math.radians(θ1))]\n",
    "c1 = L[0]*math.cos(math.radians(θ1)) + L[1]*math.cos(math.radians(θ1+θ2))\n",
    "c2 = L[0]*math.sin(math.radians(θ1)) + L[1]*math.sin(math.radians(θ1+θ2))\n",
    "b3 = [L[0]*math.cos(math.radians(θ1)) , c1]\n",
    "b4 = [L[0]*math.sin(math.radians(θ1)) , c2]\n",
    "b5 = [c1, a1]\n",
    "b6 = [c2, a2]\n",
    "plt.plot(b1, b2, color='green',  linewidth = 5,\n",
    "         marker='o', markerfacecolor='blue', markersize=12, label ='link1')\n",
    "plt.plot(b3, b4, color='red',  linewidth = 5,\n",
    "      marker='o', markerfacecolor='blue', markersize=12, label ='link2')\n",
    "plt.plot(b5, b6, color='blue', marker='o', linewidth = 5, markerfacecolor='blue', markersize=12, label ='link3')\n",
    "\n",
    "plt.legend()\n",
    "plt.show()"
   ]
  }
 ],
 "metadata": {
  "kernelspec": {
   "display_name": "Python 3 (ipykernel)",
   "language": "python",
   "name": "python3"
  },
  "language_info": {
   "codemirror_mode": {
    "name": "ipython",
    "version": 3
   },
   "file_extension": ".py",
   "mimetype": "text/x-python",
   "name": "python",
   "nbconvert_exporter": "python",
   "pygments_lexer": "ipython3",
   "version": "3.9.13"
  }
 },
 "nbformat": 4,
 "nbformat_minor": 5
}
